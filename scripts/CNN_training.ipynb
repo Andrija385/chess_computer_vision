{
  "cells": [
    {
      "cell_type": "markdown",
      "metadata": {
        "id": "view-in-github",
        "colab_type": "text"
      },
      "source": [
        "<a href=\"https://colab.research.google.com/github/Andrija385/chess_computer_vision/blob/main/scripts/CNN_training.ipynb\" target=\"_parent\"><img src=\"https://colab.research.google.com/assets/colab-badge.svg\" alt=\"Open In Colab\"/></a>"
      ]
    },
    {
      "cell_type": "code",
      "execution_count": null,
      "metadata": {
        "id": "940uC9Zyutqh"
      },
      "outputs": [],
      "source": [
        "import tensorflow as tf\n",
        "import numpy as np\n",
        "import cv2 as cv\n",
        "import os\n",
        "import matplotlib.pyplot as plt"
      ]
    },
    {
      "cell_type": "code",
      "execution_count": null,
      "metadata": {
        "id": "Xxou6vt2SPsr"
      },
      "outputs": [],
      "source": [
        "class_names = ['white king','white queen','white rook','white bishop','white knight','white pawn',\n",
        "               'black king','black queen','black rook','black bishop','black knight','black pawn','tile']"
      ]
    },
    {
      "cell_type": "code",
      "execution_count": null,
      "metadata": {
        "id": "BLLQLKwLGzri"
      },
      "outputs": [],
      "source": [
        "code = {}\n",
        "code['wk.png']=0\n",
        "code['wq.png']=1\n",
        "code['wr.png']=2\n",
        "code['wb.png']=3\n",
        "code['wn.png']=4\n",
        "code['wp.png']=5\n",
        "\n",
        "code['bk.png']=6\n",
        "code['bq.png']=7\n",
        "code['br.png']=8\n",
        "code['bb.png']=9\n",
        "code['bn.png']=10\n",
        "code['bp.png']=11\n",
        "code['ti.png']=12\n",
        "\n",
        "code['wk']=0\n",
        "code['wq']=1\n",
        "code['wr']=2\n",
        "code['wb']=3\n",
        "code['wn']=4\n",
        "code['wp']=5\n",
        "\n",
        "code['bk']=6\n",
        "code['bq']=7\n",
        "code['br']=8\n",
        "code['bb']=9\n",
        "code['bn']=10\n",
        "code['bp']=11\n",
        "code['ti']=12\n",
        "def make_database(path):\n",
        "    pieces = os.path.join(path,'pieces_png')\n",
        "    tiles = os.path.join(path,'tiles')\n",
        "    x = []\n",
        "    y = []\n",
        "    for tile_name in os.listdir(tiles):\n",
        "        print(tile_name)\n",
        "        tile = cv.imread(os.path.join(tiles,tile_name))\n",
        "        tile = cv.resize(tile,dsize=(32,32))\n",
        "        x.append(tile)\n",
        "        y.append(12)\n",
        "        for theme in os.listdir(pieces):\n",
        "            for piece_name in os.listdir(os.path.join(pieces,theme)):\n",
        "                ime = piece_name[:2].lower()\n",
        "                label = code[ime]\n",
        "                piece = cv.imread(os.path.join(pieces,theme,piece_name),cv.IMREAD_UNCHANGED)\n",
        "                piece_mask = piece[:,:,3].astype(np.uint8)\n",
        "                piece = piece[:,:,:3]\n",
        "                piece = cv.resize(piece,dsize=(32,32))\n",
        "                piece_mask = cv.resize(piece_mask,dsize=(32,32))\n",
        "                piece_mask_inv = cv.bitwise_not(piece_mask)\n",
        "                tile_mod = cv.bitwise_and(tile,tile,mask=piece_mask_inv)\n",
        "                tile_mod = cv.add(tile_mod,piece)\n",
        "                x.append(tile_mod)\n",
        "                y.append(label)\n",
        "    return np.array(x),np.array(y)"
      ]
    },
    {
      "cell_type": "code",
      "execution_count": null,
      "metadata": {
        "colab": {
          "base_uri": "https://localhost:8080/"
        },
        "id": "bUNRnxEMG6wh",
        "outputId": "9c74d716-cbee-496e-bbf0-566723724a2b"
      },
      "outputs": [
        {
          "output_type": "stream",
          "name": "stdout",
          "text": [
            "black_chesscom_glass.png\n",
            "white_chesscom_dark_wood.png\n",
            "white_lichess_newspaper.thumbnail.png\n",
            "white_chesscom_walnut.png\n",
            "black_chesscom_bases.png\n",
            "black_chesscom_green.png\n",
            "white_chesscom_bases.png\n",
            "black_chesscom_walnut.png\n",
            "black_chesscom_marble.png\n",
            "white_lichess_purple-diag.thumbnail.png\n",
            "black_lichess_canvas2.thumbnail.jpg\n",
            "black_lichess_blue3.thumbnail.jpg\n",
            "white_chesscom_tournament.png\n",
            "black_lichess_wood4.thumbnail.jpg\n",
            "black_lichess_grey.thumbnail.jpg\n",
            "white_lichess_metal.thumbnail.jpg\n",
            "white_chesscom_bubblegum.png\n",
            "white_chesscom_parchment.png\n",
            "white_lichess_maple2.thumbnail.jpg\n",
            "white_chesscom_neon.png\n",
            "black_lichess_olive.thumbnail.jpg\n",
            "black_lichess_horsey.thumbnail.jpg\n",
            "black_lichess_maple2.thumbnail.jpg\n",
            "white_lichess_olive.thumbnail.jpg\n",
            "white_lichess_wood4.thumbnail.jpg\n",
            "black_chesscom_parchment.png\n",
            "white_lichess_wood3.thumbnail.jpg\n",
            "white_lichess_blue-marble.thumbnail.jpg\n",
            "white_lichess_maple.thumbnail.jpg\n",
            "white_lichess_horsey.thumbnail.jpg\n",
            "white_chesscom_dash.png\n",
            "white_lichess_blue3.thumbnail.jpg\n",
            "black_chesscom_sky.png\n",
            "black_lichess_purple-diag.thumbnail.png\n",
            "black_chesscom_sand.png\n",
            "white_lichess_blue2.thumbnail.jpg\n",
            "black_chesscom_metal.png\n",
            "white_chesscom_sky.png\n",
            "white_chesscom_glass.png\n",
            "white_lichess_leather.thumbnail.jpg\n",
            "black_lichess_wood.thumbnail.jpg\n",
            "black_chesscom_dash.png\n",
            "black_chesscom_dark_wood.png\n",
            "black_lichess_wood2.thumbnail.jpg\n",
            "white_lichess_green-plastic.thumbnail.png\n",
            "white_lichess_wood2.thumbnail.jpg\n",
            "black_lichess_metal.thumbnail.jpg\n",
            "black_lichess_maple.thumbnail.jpg\n",
            "black_lichess_leather.thumbnail.jpg\n",
            "black_lichess_blue2.thumbnail.jpg\n",
            "white_chesscom_marble.png\n",
            "white_lichess_marble.thumbnail.jpg\n",
            "black_lichess_marble.thumbnail.jpg\n",
            "white_chesscom_icy_sea.png\n",
            "black_lichess_wood3.thumbnail.jpg\n",
            "white_lichess_canvas2.thumbnail.jpg\n",
            "black_chesscom_tournament.png\n",
            "white_chesscom_8_bit.png\n",
            "black_lichess_green-plastic.thumbnail.png\n",
            "white_lichess_grey.thumbnail.jpg\n",
            "black_lichess_newspaper.thumbnail.png\n",
            "black_lichess_pink-pyramid.thumbnail.png\n",
            "white_chesscom_metal.png\n",
            "white_lichess_pink-pyramid.thumbnail.png\n",
            "black_chesscom_bubblegum.png\n",
            "white_chesscom_light.png\n",
            "black_chesscom_icy_sea.png\n",
            "white_chesscom_green.png\n",
            "black_chesscom_neon.png\n",
            "black_chesscom_8_bit.png\n",
            "white_chesscom_sand.png\n",
            "black_chesscom_light.png\n",
            "white_lichess_wood.thumbnail.jpg\n",
            "black_lichess_blue-marble.thumbnail.jpg\n"
          ]
        }
      ],
      "source": [
        "x,y = make_database('/content/drive/MyDrive/final')"
      ]
    },
    {
      "cell_type": "code",
      "execution_count": null,
      "metadata": {
        "colab": {
          "base_uri": "https://localhost:8080/"
        },
        "id": "OsSWJLZIIGEU",
        "outputId": "3fd03b6c-1dc8-4b45-b109-28bf0e4daf56"
      },
      "outputs": [
        {
          "output_type": "stream",
          "name": "stdout",
          "text": [
            "(14282, 32, 32, 3)\n",
            "(14282,)\n"
          ]
        }
      ],
      "source": [
        "print(x.shape)\n",
        "print(y.shape)"
      ]
    },
    {
      "cell_type": "code",
      "execution_count": null,
      "metadata": {
        "id": "0G9LcuTsQbGZ"
      },
      "outputs": [],
      "source": [
        "x=np.array(tf.random.shuffle(x,seed=0))\n",
        "y=np.array(tf.random.shuffle(y,seed=0))"
      ]
    },
    {
      "cell_type": "code",
      "execution_count": null,
      "metadata": {
        "id": "Anz4tn5gN1PN"
      },
      "outputs": [],
      "source": [
        "x_gray = np.array([cv.cvtColor(img,cv.COLOR_BGR2GRAY) for img in list(x)])"
      ]
    },
    {
      "cell_type": "code",
      "execution_count": null,
      "metadata": {
        "id": "pEqMfZX0Oa-L"
      },
      "outputs": [],
      "source": [
        "n = x_gray.shape[0]\n",
        "n_train = int(0.95*n)\n",
        "n_test = n-n_train\n",
        "x_train = x_gray[:n_train]\n",
        "y_train = y[:n_train]\n",
        "x_test = x_gray[n_train:]\n",
        "y_test = y[n_train:]"
      ]
    },
    {
      "cell_type": "code",
      "execution_count": null,
      "metadata": {
        "id": "5M1CYwdiIHaC"
      },
      "outputs": [],
      "source": [
        "def create_model():\n",
        "  model = tf.keras.models.Sequential([\n",
        "      tf.keras.layers.Input(shape=(32,32,1)),\n",
        "      tf.keras.layers.Rescaling(1./255),\n",
        "      #tf.keras.layers.RandomTranslation(height_factor=0.15,width_factor=0.15,fill_mode='reflect'),\n",
        "      #tf.keras.layers.RandomRotation(factor=0.1,fill_mode='reflect'),\n",
        "      tf.keras.layers.Conv2D(32,4,activation='relu'),\n",
        "      tf.keras.layers.MaxPool2D(),\n",
        "      tf.keras.layers.Flatten(),\n",
        "      tf.keras.layers.Dropout(0.1),\n",
        "      tf.keras.layers.Dense(128,activation='relu'),\n",
        "      tf.keras.layers.Dropout(0.1),\n",
        "      tf.keras.layers.Dense(13,activation='softmax')\n",
        "  ])\n",
        "  model.compile(optimizer='adam',loss='sparse_categorical_crossentropy',metrics=['accuracy'])\n",
        "  return model"
      ]
    },
    {
      "cell_type": "code",
      "execution_count": null,
      "metadata": {
        "id": "MrZSxcuqNTtX"
      },
      "outputs": [],
      "source": [
        "model = create_model()"
      ]
    },
    {
      "cell_type": "code",
      "execution_count": null,
      "metadata": {
        "colab": {
          "base_uri": "https://localhost:8080/"
        },
        "id": "I3ufbCZPNZ-X",
        "outputId": "b6f8cd8e-f28d-4f1d-e618-7a9f23a854c2"
      },
      "outputs": [
        {
          "output_type": "stream",
          "name": "stdout",
          "text": [
            "Epoch 1/10\n",
            "424/424 [==============================] - 27s 62ms/step - loss: 0.3238 - accuracy: 0.9227 - val_loss: 0.0388 - val_accuracy: 0.9958\n",
            "Epoch 2/10\n",
            "424/424 [==============================] - 32s 75ms/step - loss: 0.0341 - accuracy: 0.9929 - val_loss: 0.0159 - val_accuracy: 0.9958\n",
            "Epoch 3/10\n",
            "424/424 [==============================] - 27s 64ms/step - loss: 0.0188 - accuracy: 0.9951 - val_loss: 0.0117 - val_accuracy: 0.9958\n",
            "Epoch 4/10\n",
            "424/424 [==============================] - 15s 36ms/step - loss: 0.0149 - accuracy: 0.9957 - val_loss: 0.0071 - val_accuracy: 0.9986\n",
            "Epoch 5/10\n",
            "424/424 [==============================] - 15s 36ms/step - loss: 0.0109 - accuracy: 0.9965 - val_loss: 0.0046 - val_accuracy: 0.9986\n",
            "Epoch 6/10\n",
            "424/424 [==============================] - 16s 37ms/step - loss: 0.0117 - accuracy: 0.9952 - val_loss: 0.0045 - val_accuracy: 1.0000\n",
            "Epoch 7/10\n",
            "424/424 [==============================] - 15s 36ms/step - loss: 0.0127 - accuracy: 0.9955 - val_loss: 0.0344 - val_accuracy: 0.9846\n",
            "Epoch 8/10\n",
            "424/424 [==============================] - 15s 35ms/step - loss: 0.0127 - accuracy: 0.9954 - val_loss: 0.0023 - val_accuracy: 1.0000\n",
            "Epoch 9/10\n",
            "424/424 [==============================] - 15s 35ms/step - loss: 0.0076 - accuracy: 0.9975 - val_loss: 0.0035 - val_accuracy: 1.0000\n",
            "Epoch 10/10\n",
            "424/424 [==============================] - 14s 34ms/step - loss: 0.0135 - accuracy: 0.9956 - val_loss: 0.0038 - val_accuracy: 0.9986\n"
          ]
        },
        {
          "output_type": "execute_result",
          "data": {
            "text/plain": [
              "<keras.src.callbacks.History at 0x7e509b612b90>"
            ]
          },
          "metadata": {},
          "execution_count": 28
        }
      ],
      "source": [
        "model.fit(x_train,y_train,epochs=10,validation_data=(x_test,y_test))"
      ]
    },
    {
      "cell_type": "code",
      "execution_count": null,
      "metadata": {
        "colab": {
          "base_uri": "https://localhost:8080/"
        },
        "id": "Q-a9bnn1NcFc",
        "outputId": "d306e82e-8022-4cb4-979e-38fad10f1425"
      },
      "outputs": [
        {
          "output_type": "stream",
          "name": "stdout",
          "text": [
            "23/23 [==============================] - 0s 8ms/step - loss: 0.0106 - accuracy: 0.9944\n"
          ]
        },
        {
          "output_type": "execute_result",
          "data": {
            "text/plain": [
              "[0.010601679794490337, 0.9944055676460266]"
            ]
          },
          "metadata": {},
          "execution_count": 12
        }
      ],
      "source": [
        "model.evaluate(x_test,y_test)"
      ]
    },
    {
      "cell_type": "code",
      "execution_count": null,
      "metadata": {
        "colab": {
          "base_uri": "https://localhost:8080/",
          "height": 487
        },
        "id": "mJqfWtRBO_Ee",
        "outputId": "bdd35081-1c5f-41b3-f9b3-9dc92979f6a4"
      },
      "outputs": [
        {
          "output_type": "stream",
          "name": "stdout",
          "text": [
            "1/1 [==============================] - 0s 20ms/step\n",
            "white bishop\n"
          ]
        },
        {
          "output_type": "display_data",
          "data": {
            "text/plain": [
              "<Figure size 640x480 with 1 Axes>"
            ],
            "image/png": "[encoded data removed]"
          },
          "metadata": {}
        }
      ],
      "source": [
        "i=167\n",
        "plt.imshow(x_test[i],cmap='gray',vmin=0.,vmax=255.,)\n",
        "plt.title(class_names[y_test[i]])\n",
        "prediction = model4.predict(x_test[i].reshape((-1,32,32)))\n",
        "print(class_names[np.argmax(prediction)])"
      ]
    },
    {
      "cell_type": "code",
      "execution_count": null,
      "metadata": {
        "colab": {
          "base_uri": "https://localhost:8080/"
        },
        "id": "xbTlir3OUMPW",
        "outputId": "049ffbad-71ee-425e-b88b-15d1bac4213a"
      },
      "outputs": [
        {
          "output_type": "execute_result",
          "data": {
            "text/plain": [
              "[]"
            ]
          },
          "metadata": {},
          "execution_count": 15
        }
      ],
      "source": [
        "niz=[]\n",
        "for i in range(200):\n",
        "  if y_test[i] != np.argmax(model.predict(x_test[i].reshape((-1,32,32)),verbose=False)):\n",
        "    niz.append(i)\n",
        "niz"
      ]
    },
    {
      "cell_type": "code",
      "execution_count": null,
      "metadata": {
        "id": "ZxIpCXnlYPjU"
      },
      "outputs": [],
      "source": [
        "model.save('/content/drive/MyDrive/final/models/prvidobar.keras')"
      ]
    },
    {
      "cell_type": "code",
      "execution_count": null,
      "metadata": {
        "id": "GoUlSx2DZWIP"
      },
      "outputs": [],
      "source": [
        "model2 = tf.keras.models.load_model('/content/drive/MyDrive/final/models/prvidobar.keras')"
      ]
    },
    {
      "cell_type": "code",
      "execution_count": null,
      "metadata": {
        "colab": {
          "base_uri": "https://localhost:8080/"
        },
        "id": "5tDUHjEvZhGz",
        "outputId": "23765648-c372-41e3-b39f-9823b33ec222"
      },
      "outputs": [
        {
          "name": "stdout",
          "output_type": "stream",
          "text": [
            "Model: \"sequential_4\"\n",
            "_________________________________________________________________\n",
            " Layer (type)                Output Shape              Param #   \n",
            "=================================================================\n",
            " rescaling_3 (Rescaling)     (None, 32, 32, 1)         0         \n",
            "                                                                 \n",
            " conv2d_4 (Conv2D)           (None, 29, 29, 32)        544       \n",
            "                                                                 \n",
            " max_pooling2d_4 (MaxPooling  (None, 14, 14, 32)       0         \n",
            " 2D)                                                             \n",
            "                                                                 \n",
            " flatten_4 (Flatten)         (None, 6272)              0         \n",
            "                                                                 \n",
            " dropout_4 (Dropout)         (None, 6272)              0         \n",
            "                                                                 \n",
            " dense_8 (Dense)             (None, 128)               802944    \n",
            "                                                                 \n",
            " dropout_5 (Dropout)         (None, 128)               0         \n",
            "                                                                 \n",
            " dense_9 (Dense)             (None, 13)                1677      \n",
            "                                                                 \n",
            "=================================================================\n",
            "Total params: 805,165\n",
            "Trainable params: 805,165\n",
            "Non-trainable params: 0\n",
            "_________________________________________________________________\n"
          ]
        }
      ],
      "source": [
        "model2.summary()"
      ]
    },
    {
      "cell_type": "code",
      "execution_count": null,
      "metadata": {
        "colab": {
          "base_uri": "https://localhost:8080/"
        },
        "id": "ABqvGpKWZiNq",
        "outputId": "f0a0d406-edc4-4850-92bf-9e65a2a31b2a"
      },
      "outputs": [
        {
          "name": "stdout",
          "output_type": "stream",
          "text": [
            "23/23 [==============================] - 0s 3ms/step - loss: 0.0029 - accuracy: 0.9986\n"
          ]
        },
        {
          "data": {
            "text/plain": [
              "[0.0028668930754065514, 0.9986013770103455]"
            ]
          },
          "execution_count": 66,
          "metadata": {},
          "output_type": "execute_result"
        }
      ],
      "source": [
        "model2.evaluate(x_test,y_test)"
      ]
    },
    {
      "cell_type": "code",
      "execution_count": null,
      "metadata": {
        "id": "wY9TvWXG8fTu"
      },
      "outputs": [],
      "source": [
        "def create_model2():\n",
        "  model = tf.keras.models.Sequential([\n",
        "      tf.keras.layers.Input(shape=(32,32,1)),\n",
        "      tf.keras.layers.Rescaling(1./255),\n",
        "      tf.keras.layers.RandomRotation(factor=0.05,fill_mode='reflect'),\n",
        "      tf.keras.layers.RandomTranslation(height_factor=0.1,width_factor=0.1,fill_mode='reflect'),\n",
        "      tf.keras.layers.RandomContrast(0.1),\n",
        "      tf.keras.layers.Conv2D(64,3,activation='relu'),\n",
        "      tf.keras.layers.MaxPool2D(),\n",
        "      tf.keras.layers.Flatten(),\n",
        "      tf.keras.layers.Dropout(0.1),\n",
        "      tf.keras.layers.Dense(128,activation='relu'),\n",
        "      tf.keras.layers.Dropout(0.1),\n",
        "      tf.keras.layers.Dense(13,activation='softmax')\n",
        "  ])\n",
        "  model.compile(optimizer='adam',loss='sparse_categorical_crossentropy',metrics=['accuracy'])\n",
        "  return model"
      ]
    },
    {
      "cell_type": "code",
      "execution_count": null,
      "metadata": {
        "colab": {
          "base_uri": "https://localhost:8080/"
        },
        "id": "YdnuIYgt9Iex",
        "outputId": "a752136c-1c08-4e7e-a93f-7fc288de595d"
      },
      "outputs": [
        {
          "output_type": "stream",
          "name": "stdout",
          "text": [
            "Epoch 1/10\n",
            "424/424 [==============================] - 40s 90ms/step - loss: 1.1749 - accuracy: 0.6206 - val_loss: 0.2812 - val_accuracy: 0.9147\n",
            "Epoch 2/10\n",
            "424/424 [==============================] - 30s 71ms/step - loss: 0.4527 - accuracy: 0.8569 - val_loss: 0.1766 - val_accuracy: 0.9357\n",
            "Epoch 3/10\n",
            "424/424 [==============================] - 31s 72ms/step - loss: 0.2882 - accuracy: 0.9110 - val_loss: 0.1248 - val_accuracy: 0.9538\n",
            "Epoch 4/10\n",
            "424/424 [==============================] - 31s 72ms/step - loss: 0.2170 - accuracy: 0.9301 - val_loss: 0.0748 - val_accuracy: 0.9720\n",
            "Epoch 5/10\n",
            "424/424 [==============================] - 31s 72ms/step - loss: 0.1809 - accuracy: 0.9415 - val_loss: 0.0959 - val_accuracy: 0.9692\n",
            "Epoch 6/10\n",
            "424/424 [==============================] - 31s 72ms/step - loss: 0.1504 - accuracy: 0.9512 - val_loss: 0.0740 - val_accuracy: 0.9748\n",
            "Epoch 7/10\n",
            "424/424 [==============================] - 40s 95ms/step - loss: 0.1416 - accuracy: 0.9553 - val_loss: 0.0677 - val_accuracy: 0.9776\n",
            "Epoch 8/10\n",
            "424/424 [==============================] - 36s 85ms/step - loss: 0.1187 - accuracy: 0.9617 - val_loss: 0.0402 - val_accuracy: 0.9832\n",
            "Epoch 9/10\n",
            "424/424 [==============================] - 30s 71ms/step - loss: 0.1059 - accuracy: 0.9628 - val_loss: 0.0436 - val_accuracy: 0.9860\n",
            "Epoch 10/10\n",
            "424/424 [==============================] - 30s 71ms/step - loss: 0.1013 - accuracy: 0.9659 - val_loss: 0.0477 - val_accuracy: 0.9748\n"
          ]
        },
        {
          "output_type": "execute_result",
          "data": {
            "text/plain": [
              "<keras.callbacks.History at 0x7dd519c167d0>"
            ]
          },
          "metadata": {},
          "execution_count": 18
        }
      ],
      "source": [
        "model2=create_model2()\n",
        "model2.fit(x_train,y_train,epochs=10,validation_data=(x_test,y_test))"
      ]
    },
    {
      "cell_type": "code",
      "execution_count": null,
      "metadata": {
        "id": "NInniEX39_0y",
        "colab": {
          "base_uri": "https://localhost:8080/"
        },
        "outputId": "a8e99010-1e41-4f0d-bea2-1f653dc30d2f"
      },
      "outputs": [
        {
          "output_type": "stream",
          "name": "stdout",
          "text": [
            "23/23 [==============================] - 1s 30ms/step - loss: 0.0477 - accuracy: 0.9748\n"
          ]
        },
        {
          "output_type": "execute_result",
          "data": {
            "text/plain": [
              "[0.047697748988866806, 0.9748252034187317]"
            ]
          },
          "metadata": {},
          "execution_count": 20
        }
      ],
      "source": [
        "model2.evaluate(x_test,y_test)"
      ]
    },
    {
      "cell_type": "code",
      "source": [
        "model2.save('/content/drive/MyDrive/final/models/drugidobar.keras')"
      ],
      "metadata": {
        "id": "IjMOm8lLKYM0"
      },
      "execution_count": null,
      "outputs": []
    },
    {
      "cell_type": "code",
      "source": [
        "def create_model3():\n",
        "  model = tf.keras.models.Sequential([\n",
        "      tf.keras.layers.Input(shape=(32,32,1)),\n",
        "      tf.keras.layers.Rescaling(1./255),\n",
        "      tf.keras.layers.RandomRotation(factor=0.05,fill_mode='reflect'),\n",
        "      tf.keras.layers.RandomTranslation(height_factor=0.1,width_factor=0.1,fill_mode='reflect'),\n",
        "      tf.keras.layers.RandomContrast(0.1),\n",
        "      tf.keras.layers.Conv2D(64,3,activation='relu'),\n",
        "      tf.keras.layers.MaxPool2D(),\n",
        "      tf.keras.layers.Conv2D(32,3,activation='relu'),\n",
        "      tf.keras.layers.MaxPool2D(),\n",
        "      tf.keras.layers.Flatten(),\n",
        "      tf.keras.layers.Dropout(0.1),\n",
        "      tf.keras.layers.Dense(128,activation='relu'),\n",
        "      tf.keras.layers.Dropout(0.1),\n",
        "      tf.keras.layers.Dense(13,activation='softmax')\n",
        "  ])\n",
        "  model.compile(optimizer='adam',loss='sparse_categorical_crossentropy',metrics=['accuracy'])\n",
        "  return model"
      ],
      "metadata": {
        "id": "VjVfcgPrJjft"
      },
      "execution_count": null,
      "outputs": []
    },
    {
      "cell_type": "code",
      "source": [
        "model3=create_model2()\n",
        "model3.fit(x_train,y_train,epochs=10,validation_data=(x_test,y_test))"
      ],
      "metadata": {
        "colab": {
          "base_uri": "https://localhost:8080/"
        },
        "id": "KwtowEz4LC2O",
        "outputId": "2a011730-7775-45ba-fe69-8726951d995d"
      },
      "execution_count": null,
      "outputs": [
        {
          "output_type": "stream",
          "name": "stdout",
          "text": [
            "Epoch 1/10\n",
            "424/424 [==============================] - 32s 72ms/step - loss: 0.9913 - accuracy: 0.6894 - val_loss: 0.1905 - val_accuracy: 0.9413\n",
            "Epoch 2/10\n",
            "424/424 [==============================] - 30s 72ms/step - loss: 0.3750 - accuracy: 0.8841 - val_loss: 0.1248 - val_accuracy: 0.9594\n",
            "Epoch 3/10\n",
            "424/424 [==============================] - 31s 73ms/step - loss: 0.2384 - accuracy: 0.9250 - val_loss: 0.0897 - val_accuracy: 0.9650\n",
            "Epoch 4/10\n",
            "424/424 [==============================] - 30s 72ms/step - loss: 0.1753 - accuracy: 0.9440 - val_loss: 0.0787 - val_accuracy: 0.9748\n",
            "Epoch 5/10\n",
            "424/424 [==============================] - 30s 71ms/step - loss: 0.1547 - accuracy: 0.9501 - val_loss: 0.0661 - val_accuracy: 0.9804\n",
            "Epoch 6/10\n",
            "424/424 [==============================] - 30s 72ms/step - loss: 0.1237 - accuracy: 0.9585 - val_loss: 0.0619 - val_accuracy: 0.9762\n",
            "Epoch 7/10\n",
            "424/424 [==============================] - 29s 69ms/step - loss: 0.1118 - accuracy: 0.9654 - val_loss: 0.0572 - val_accuracy: 0.9832\n",
            "Epoch 8/10\n",
            "424/424 [==============================] - 29s 67ms/step - loss: 0.1020 - accuracy: 0.9657 - val_loss: 0.0436 - val_accuracy: 0.9832\n",
            "Epoch 9/10\n",
            "424/424 [==============================] - 29s 69ms/step - loss: 0.0936 - accuracy: 0.9683 - val_loss: 0.0544 - val_accuracy: 0.9804\n",
            "Epoch 10/10\n",
            "424/424 [==============================] - 30s 70ms/step - loss: 0.0864 - accuracy: 0.9714 - val_loss: 0.0266 - val_accuracy: 0.9874\n"
          ]
        },
        {
          "output_type": "execute_result",
          "data": {
            "text/plain": [
              "<keras.callbacks.History at 0x7dd514f52d70>"
            ]
          },
          "metadata": {},
          "execution_count": 26
        }
      ]
    },
    {
      "cell_type": "code",
      "source": [
        "model3.save('/content/drive/MyDrive/final/models/trecidobar.keras')"
      ],
      "metadata": {
        "id": "4dvSmLovMj1h"
      },
      "execution_count": null,
      "outputs": []
    },
    {
      "cell_type": "code",
      "source": [
        "def create_model4():\n",
        "  model = tf.keras.models.Sequential([\n",
        "      tf.keras.layers.Input(shape=(32,32,1)),\n",
        "      tf.keras.layers.Rescaling(1./255),\n",
        "      #tf.keras.layers.RandomRotation(factor=0.05,fill_mode='reflect'),\n",
        "      tf.keras.layers.RandomTranslation(height_factor=0.1,width_factor=0.1,fill_mode='reflect'),\n",
        "      #tf.keras.layers.RandomContrast(0.1),\n",
        "      tf.keras.layers.Conv2D(64,3,activation='relu'),\n",
        "      tf.keras.layers.MaxPool2D(),\n",
        "      tf.keras.layers.Conv2D(32,3,activation='relu'),\n",
        "      tf.keras.layers.MaxPool2D(),\n",
        "      tf.keras.layers.Flatten(),\n",
        "      tf.keras.layers.Dropout(0.1),\n",
        "      tf.keras.layers.Dense(128,activation='relu'),\n",
        "      tf.keras.layers.Dropout(0.1),\n",
        "      tf.keras.layers.Dense(13,activation='softmax')\n",
        "  ])\n",
        "  model.compile(optimizer='adam',loss='sparse_categorical_crossentropy',metrics=['accuracy'])\n",
        "  return model"
      ],
      "metadata": {
        "id": "fWrAXrTsaRAq"
      },
      "execution_count": null,
      "outputs": []
    },
    {
      "cell_type": "code",
      "source": [
        "model4 = create_model4()\n",
        "model4.fit(x_train,y_train,validation_data=(x_test,y_test),epochs=10)"
      ],
      "metadata": {
        "id": "VL_yscIJbymK"
      },
      "execution_count": null,
      "outputs": []
    },
    {
      "cell_type": "code",
      "source": [
        "niz=[]\n",
        "for i in range(200):\n",
        "  if y_test[i] != np.argmax(model4.predict(x_test[i].reshape((-1,32,32)),verbose=False)):\n",
        "    niz.append(i)\n",
        "niz"
      ],
      "metadata": {
        "colab": {
          "base_uri": "https://localhost:8080/"
        },
        "id": "XFQrx9V4b5hU",
        "outputId": "5daaf484-381a-4c8b-907e-eabc32ed5bf7"
      },
      "execution_count": null,
      "outputs": [
        {
          "output_type": "execute_result",
          "data": {
            "text/plain": [
              "[125, 167]"
            ]
          },
          "metadata": {},
          "execution_count": 60
        }
      ]
    },
    {
      "cell_type": "code",
      "source": [
        "model4.save('/content/drive/MyDrive/final/models/sedmidobar.keras')"
      ],
      "metadata": {
        "id": "BSsKiwm3cY0I"
      },
      "execution_count": null,
      "outputs": []
    },
    {
      "cell_type": "code",
      "source": [
        "model100 = create_model4()"
      ],
      "metadata": {
        "id": "OTmAOhFSL7Rm"
      },
      "execution_count": null,
      "outputs": []
    },
    {
      "cell_type": "code",
      "source": [
        "hist = model100.fit(x_train,y_train,validation_data=(x_test,y_test),epochs=100)"
      ],
      "metadata": {
        "id": "J66Rp0epMKPI"
      },
      "execution_count": null,
      "outputs": []
    },
    {
      "cell_type": "code",
      "source": [
        "model100.save('/content/drive/MyDrive/final/models/model100.keras')"
      ],
      "metadata": {
        "id": "CYcbeATfMh18"
      },
      "execution_count": null,
      "outputs": []
    },
    {
      "cell_type": "code",
      "source": [
        "import matplotlib.pyplot as plt"
      ],
      "metadata": {
        "id": "SbqmHiqeRimi"
      },
      "execution_count": null,
      "outputs": []
    },
    {
      "cell_type": "code",
      "source": [
        "plt.plot(hist.history['accuracy'])"
      ],
      "metadata": {
        "id": "MGBgr_MZRmtS"
      },
      "execution_count": null,
      "outputs": []
    },
    {
      "cell_type": "code",
      "source": [
        "model100.summary()"
      ],
      "metadata": {
        "id": "pvtVreFARoaP"
      },
      "execution_count": null,
      "outputs": []
    },
    {
      "cell_type": "code",
      "source": [
        "model100.save_weights('/content/drive/MyDrive/final/models/model100weights')"
      ],
      "metadata": {
        "id": "KL02wKzClRZr"
      },
      "execution_count": null,
      "outputs": []
    }
  ],
  "metadata": {
    "accelerator": "GPU",
    "colab": {
      "provenance": [],
      "gpuType": "T4",
      "mount_file_id": "1VB8jzgL3GxZ7KkuZjXXs7IHbHc4MuANX",
      "authorship_tag": "ABX9TyMnLZ3ZnUna4WtWXnWYPie9",
      "include_colab_link": true
    },
    "kernelspec": {
      "display_name": "Python 3",
      "name": "python3"
    },
    "language_info": {
      "name": "python"
    }
  },
  "nbformat": 4,
  "nbformat_minor": 0
}